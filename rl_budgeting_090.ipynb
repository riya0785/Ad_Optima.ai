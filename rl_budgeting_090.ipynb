{
  "nbformat": 4,
  "nbformat_minor": 0,
  "metadata": {
    "colab": {
      "provenance": []
    },
    "kernelspec": {
      "name": "python3",
      "display_name": "Python 3"
    },
    "language_info": {
      "name": "python"
    }
  },
  "cells": [
    {
      "cell_type": "code",
      "execution_count": null,
      "metadata": {
        "colab": {
          "base_uri": "https://localhost:8080/"
        },
        "id": "JAbKh735vM5b",
        "outputId": "e1c53d85-88d3-4af8-f098-1b7f31118ce5"
      },
      "outputs": [
        {
          "output_type": "stream",
          "name": "stdout",
          "text": [
            "\u001b[2K   \u001b[90m━━━━━━━━━━━━━━━━━━━━━━━━━━━━━━━━━━━━━━━━\u001b[0m \u001b[32m363.4/363.4 MB\u001b[0m \u001b[31m4.3 MB/s\u001b[0m eta \u001b[36m0:00:00\u001b[0m\n",
            "\u001b[2K   \u001b[90m━━━━━━━━━━━━━━━━━━━━━━━━━━━━━━━━━━━━━━━━\u001b[0m \u001b[32m13.8/13.8 MB\u001b[0m \u001b[31m63.5 MB/s\u001b[0m eta \u001b[36m0:00:00\u001b[0m\n",
            "\u001b[2K   \u001b[90m━━━━━━━━━━━━━━━━━━━━━━━━━━━━━━━━━━━━━━━━\u001b[0m \u001b[32m24.6/24.6 MB\u001b[0m \u001b[31m35.4 MB/s\u001b[0m eta \u001b[36m0:00:00\u001b[0m\n",
            "\u001b[2K   \u001b[90m━━━━━━━━━━━━━━━━━━━━━━━━━━━━━━━━━━━━━━━━\u001b[0m \u001b[32m883.7/883.7 kB\u001b[0m \u001b[31m44.3 MB/s\u001b[0m eta \u001b[36m0:00:00\u001b[0m\n",
            "\u001b[2K   \u001b[90m━━━━━━━━━━━━━━━━━━━━━━━━━━━━━━━━━━━━━━━━\u001b[0m \u001b[32m664.8/664.8 MB\u001b[0m \u001b[31m2.9 MB/s\u001b[0m eta \u001b[36m0:00:00\u001b[0m\n",
            "\u001b[2K   \u001b[90m━━━━━━━━━━━━━━━━━━━━━━━━━━━━━━━━━━━━━━━━\u001b[0m \u001b[32m211.5/211.5 MB\u001b[0m \u001b[31m5.5 MB/s\u001b[0m eta \u001b[36m0:00:00\u001b[0m\n",
            "\u001b[2K   \u001b[90m━━━━━━━━━━━━━━━━━━━━━━━━━━━━━━━━━━━━━━━━\u001b[0m \u001b[32m56.3/56.3 MB\u001b[0m \u001b[31m10.7 MB/s\u001b[0m eta \u001b[36m0:00:00\u001b[0m\n",
            "\u001b[2K   \u001b[90m━━━━━━━━━━━━━━━━━━━━━━━━━━━━━━━━━━━━━━━━\u001b[0m \u001b[32m127.9/127.9 MB\u001b[0m \u001b[31m7.1 MB/s\u001b[0m eta \u001b[36m0:00:00\u001b[0m\n",
            "\u001b[2K   \u001b[90m━━━━━━━━━━━━━━━━━━━━━━━━━━━━━━━━━━━━━━━━\u001b[0m \u001b[32m207.5/207.5 MB\u001b[0m \u001b[31m5.9 MB/s\u001b[0m eta \u001b[36m0:00:00\u001b[0m\n",
            "\u001b[2K   \u001b[90m━━━━━━━━━━━━━━━━━━━━━━━━━━━━━━━━━━━━━━━━\u001b[0m \u001b[32m21.1/21.1 MB\u001b[0m \u001b[31m94.9 MB/s\u001b[0m eta \u001b[36m0:00:00\u001b[0m\n",
            "\u001b[2K   \u001b[90m━━━━━━━━━━━━━━━━━━━━━━━━━━━━━━━━━━━━━━━━\u001b[0m \u001b[32m184.5/184.5 kB\u001b[0m \u001b[31m13.6 MB/s\u001b[0m eta \u001b[36m0:00:00\u001b[0m\n",
            "\u001b[?25h"
          ]
        }
      ],
      "source": [
        "!pip install stable-baselines3[extra] gymnasium pandas scikit-learn matplotlib shimmy --quiet"
      ]
    },
    {
      "cell_type": "code",
      "source": [
        "# Import Libraries\n",
        "import pandas as pd\n",
        "import numpy as np\n",
        "import matplotlib.pyplot as plt\n",
        "from sklearn.preprocessing import LabelEncoder\n",
        "from stable_baselines3 import DQN\n",
        "import gym\n",
        "from gym import spaces\n",
        "from collections import Counter\n",
        "import os"
      ],
      "metadata": {
        "id": "Ckb7JlMqvooB"
      },
      "execution_count": null,
      "outputs": []
    },
    {
      "cell_type": "code",
      "source": [
        "df = pd.read_csv(\"/content/ad_bidding_dataset.csv\")\n",
        "data = df.copy()\n"
      ],
      "metadata": {
        "id": "XgcikU6fvoge"
      },
      "execution_count": null,
      "outputs": []
    },
    {
      "cell_type": "code",
      "source": [
        "# Encode Categorical Features\n",
        "label_encoders = {}\n",
        "categorical_columns = ['ad_type', 'website', 'user_segment']"
      ],
      "metadata": {
        "id": "Rm6KpGY2v6GS"
      },
      "execution_count": null,
      "outputs": []
    },
    {
      "cell_type": "code",
      "source": [
        "for col in categorical_columns:\n",
        "    le = LabelEncoder()\n",
        "    data[col] = le.fit_transform(data[col])\n",
        "    label_encoders[col] = le"
      ],
      "metadata": {
        "id": "6Q54ZkPvv6Bp"
      },
      "execution_count": null,
      "outputs": []
    },
    {
      "cell_type": "code",
      "source": [
        "# Feature Set and Correlation Weights\n",
        "features = ['day', 'hour', 'day_of_week', 'ad_type', 'website', 'user_segment',\n",
        "            'cost', 'base_ctr', 'adjusted_ctr', 'won_auction',\n",
        "            'impression_served', 'click_occurred', 'remaining_daily_budget']\n"
      ],
      "metadata": {
        "id": "Ms7h4pQXwACC"
      },
      "execution_count": null,
      "outputs": []
    },
    {
      "cell_type": "code",
      "source": [
        "correlations = data[features + ['bid_amount']].corr()['bid_amount'].drop('bid_amount')\n",
        "weights = correlations.abs()\n",
        "weights /= weights.sum()\n"
      ],
      "metadata": {
        "id": "tgd-0VHWwAAG"
      },
      "execution_count": null,
      "outputs": []
    },
    {
      "cell_type": "code",
      "source": [
        "weights"
      ],
      "metadata": {
        "id": "5fU6HwLn1QEe",
        "outputId": "24128b31-c005-4e44-972c-8cb64a36d61a",
        "colab": {
          "base_uri": "https://localhost:8080/",
          "height": 491
        }
      },
      "execution_count": null,
      "outputs": [
        {
          "output_type": "execute_result",
          "data": {
            "text/plain": [
              "day                       0.003961\n",
              "hour                      0.003140\n",
              "day_of_week               0.004268\n",
              "ad_type                   0.005522\n",
              "website                   0.011988\n",
              "user_segment              0.009463\n",
              "cost                      0.116433\n",
              "base_ctr                  0.124455\n",
              "adjusted_ctr              0.125998\n",
              "won_auction               0.247122\n",
              "impression_served         0.247122\n",
              "click_occurred            0.082510\n",
              "remaining_daily_budget    0.018018\n",
              "Name: bid_amount, dtype: float64"
            ],
            "text/html": [
              "<div>\n",
              "<style scoped>\n",
              "    .dataframe tbody tr th:only-of-type {\n",
              "        vertical-align: middle;\n",
              "    }\n",
              "\n",
              "    .dataframe tbody tr th {\n",
              "        vertical-align: top;\n",
              "    }\n",
              "\n",
              "    .dataframe thead th {\n",
              "        text-align: right;\n",
              "    }\n",
              "</style>\n",
              "<table border=\"1\" class=\"dataframe\">\n",
              "  <thead>\n",
              "    <tr style=\"text-align: right;\">\n",
              "      <th></th>\n",
              "      <th>bid_amount</th>\n",
              "    </tr>\n",
              "  </thead>\n",
              "  <tbody>\n",
              "    <tr>\n",
              "      <th>day</th>\n",
              "      <td>0.003961</td>\n",
              "    </tr>\n",
              "    <tr>\n",
              "      <th>hour</th>\n",
              "      <td>0.003140</td>\n",
              "    </tr>\n",
              "    <tr>\n",
              "      <th>day_of_week</th>\n",
              "      <td>0.004268</td>\n",
              "    </tr>\n",
              "    <tr>\n",
              "      <th>ad_type</th>\n",
              "      <td>0.005522</td>\n",
              "    </tr>\n",
              "    <tr>\n",
              "      <th>website</th>\n",
              "      <td>0.011988</td>\n",
              "    </tr>\n",
              "    <tr>\n",
              "      <th>user_segment</th>\n",
              "      <td>0.009463</td>\n",
              "    </tr>\n",
              "    <tr>\n",
              "      <th>cost</th>\n",
              "      <td>0.116433</td>\n",
              "    </tr>\n",
              "    <tr>\n",
              "      <th>base_ctr</th>\n",
              "      <td>0.124455</td>\n",
              "    </tr>\n",
              "    <tr>\n",
              "      <th>adjusted_ctr</th>\n",
              "      <td>0.125998</td>\n",
              "    </tr>\n",
              "    <tr>\n",
              "      <th>won_auction</th>\n",
              "      <td>0.247122</td>\n",
              "    </tr>\n",
              "    <tr>\n",
              "      <th>impression_served</th>\n",
              "      <td>0.247122</td>\n",
              "    </tr>\n",
              "    <tr>\n",
              "      <th>click_occurred</th>\n",
              "      <td>0.082510</td>\n",
              "    </tr>\n",
              "    <tr>\n",
              "      <th>remaining_daily_budget</th>\n",
              "      <td>0.018018</td>\n",
              "    </tr>\n",
              "  </tbody>\n",
              "</table>\n",
              "</div><br><label><b>dtype:</b> float64</label>"
            ]
          },
          "metadata": {},
          "execution_count": 21
        }
      ]
    },
    {
      "cell_type": "code",
      "source": [
        "# Weighted State Vectors\n",
        "state_vectors = data[features].multiply(weights, axis=1)\n",
        "state_vectors['bid_amount'] = data['bid_amount']\n",
        "state_vectors['website'] = data['website']\n",
        "state_vectors['click_occurred'] = data['click_occurred']"
      ],
      "metadata": {
        "id": "FcgJ_JXYv_9c"
      },
      "execution_count": null,
      "outputs": []
    },
    {
      "cell_type": "code",
      "source": [
        "# Custom Gym Environment for DQN (Discrete Bidding)\n",
        "class AdBiddingEnv(gym.Env):\n",
        "    def __init__(self, df, website_id=0, bid_levels=21):\n",
        "        super(AdBiddingEnv, self).__init__()\n",
        "\n",
        "        self.df = df[df['website'] == website_id].reset_index(drop=True)\n",
        "        self.n_samples = len(self.df)\n",
        "\n",
        "        self.state_data = self.df.drop(columns=['bid_amount', 'website', 'click_occurred'])\n",
        "        self.observation_space = spaces.Box(low=-np.inf, high=np.inf,\n",
        "                                            shape=(self.state_data.shape[1],), dtype=np.float32)\n",
        "\n",
        "        self.bid_values = np.linspace(0, 10, bid_levels)  # Discretized bid space\n",
        "        self.action_space = spaces.Discrete(bid_levels)\n",
        "\n",
        "        self.current_step = 0\n",
        "        self.total_clicks = 0\n",
        "\n",
        "    def reset(self):\n",
        "        self.current_step = 0\n",
        "        self.total_clicks = 0\n",
        "        return self.state_data.iloc[self.current_step].values.astype(np.float32)\n",
        "\n",
        "    def step(self, action):\n",
        "        action_bid = self.bid_values[action]\n",
        "        actual_bid = self.df.loc[self.current_step, 'bid_amount']\n",
        "        click = self.df.loc[self.current_step, 'click_occurred']\n",
        "        reward = 0\n",
        "\n",
        "        if action_bid >= actual_bid:\n",
        "            reward = click * (1.0 - abs(action_bid - actual_bid))\n",
        "\n",
        "        self.total_clicks += click\n",
        "        self.current_step += 1\n",
        "        done = self.current_step >= self.n_samples\n",
        "\n",
        "        if not done:\n",
        "            next_state = self.state_data.iloc[self.current_step].values.astype(np.float32)\n",
        "        else:\n",
        "            next_state = np.zeros_like(self.state_data.iloc[0].values)\n",
        "\n",
        "        return next_state, reward, done, {}\n",
        "\n",
        "    def render(self):\n",
        "        print(f\"Step: {self.current_step}, Total Clicks: {self.total_clicks}\")\n"
      ],
      "metadata": {
        "id": "zluqmluov_7M"
      },
      "execution_count": null,
      "outputs": []
    },
    {
      "cell_type": "code",
      "source": [
        "#  Train and Save Models for Each Website\n",
        "website_labels = label_encoders['website'].classes_\n",
        "\n",
        "# Save models for each website to avoid retraining\n",
        "model_dir = \"/content/models\"\n",
        "os.makedirs(model_dir, exist_ok=True)\n",
        "\n",
        "for website_id, website_name in enumerate(website_labels):\n",
        "    print(f\"\\n Training DQN for Website: {website_name} (ID: {website_id})\")\n",
        "\n",
        "    env = AdBiddingEnv(state_vectors, website_id)\n",
        "    model = DQN(\"MlpPolicy\", env, verbose=0)\n",
        "    model.learn(total_timesteps=50000)\n",
        "\n",
        "    # Save model for future use\n",
        "    model.save(f\"{model_dir}/model_{website_name}.zip\")\n",
        "    print(f\" Model for {website_name} saved!\")\n",
        "\n",
        "print(\"\\n🎓 Training Complete!\")"
      ],
      "metadata": {
        "colab": {
          "base_uri": "https://localhost:8080/"
        },
        "id": "w-iWAHPPweNd",
        "outputId": "9cb8bd54-7d24-4a4f-ff63-7ee6ed0b9e18"
      },
      "execution_count": null,
      "outputs": [
        {
          "output_type": "stream",
          "name": "stdout",
          "text": [
            "\n",
            " Training DQN for Website: blog (ID: 0)\n"
          ]
        },
        {
          "output_type": "stream",
          "name": "stderr",
          "text": [
            "/usr/local/lib/python3.11/dist-packages/stable_baselines3/common/vec_env/patch_gym.py:49: UserWarning: You provided an OpenAI Gym environment. We strongly recommend transitioning to Gymnasium environments. Stable-Baselines3 is automatically wrapping your environments in a compatibility layer, which could potentially cause issues.\n",
            "  warnings.warn(\n"
          ]
        },
        {
          "output_type": "stream",
          "name": "stdout",
          "text": [
            " Model for blog saved!\n",
            "\n",
            " Training DQN for Website: entertainment (ID: 1)\n"
          ]
        },
        {
          "output_type": "stream",
          "name": "stderr",
          "text": [
            "/usr/local/lib/python3.11/dist-packages/stable_baselines3/common/vec_env/patch_gym.py:49: UserWarning: You provided an OpenAI Gym environment. We strongly recommend transitioning to Gymnasium environments. Stable-Baselines3 is automatically wrapping your environments in a compatibility layer, which could potentially cause issues.\n",
            "  warnings.warn(\n"
          ]
        },
        {
          "output_type": "stream",
          "name": "stdout",
          "text": [
            " Model for entertainment saved!\n",
            "\n",
            " Training DQN for Website: gaming (ID: 2)\n"
          ]
        },
        {
          "output_type": "stream",
          "name": "stderr",
          "text": [
            "/usr/local/lib/python3.11/dist-packages/stable_baselines3/common/vec_env/patch_gym.py:49: UserWarning: You provided an OpenAI Gym environment. We strongly recommend transitioning to Gymnasium environments. Stable-Baselines3 is automatically wrapping your environments in a compatibility layer, which could potentially cause issues.\n",
            "  warnings.warn(\n"
          ]
        },
        {
          "output_type": "stream",
          "name": "stdout",
          "text": [
            " Model for gaming saved!\n",
            "\n",
            " Training DQN for Website: news (ID: 3)\n"
          ]
        },
        {
          "output_type": "stream",
          "name": "stderr",
          "text": [
            "/usr/local/lib/python3.11/dist-packages/stable_baselines3/common/vec_env/patch_gym.py:49: UserWarning: You provided an OpenAI Gym environment. We strongly recommend transitioning to Gymnasium environments. Stable-Baselines3 is automatically wrapping your environments in a compatibility layer, which could potentially cause issues.\n",
            "  warnings.warn(\n"
          ]
        },
        {
          "output_type": "stream",
          "name": "stdout",
          "text": [
            " Model for news saved!\n",
            "\n",
            " Training DQN for Website: shopping (ID: 4)\n"
          ]
        },
        {
          "output_type": "stream",
          "name": "stderr",
          "text": [
            "/usr/local/lib/python3.11/dist-packages/stable_baselines3/common/vec_env/patch_gym.py:49: UserWarning: You provided an OpenAI Gym environment. We strongly recommend transitioning to Gymnasium environments. Stable-Baselines3 is automatically wrapping your environments in a compatibility layer, which could potentially cause issues.\n",
            "  warnings.warn(\n"
          ]
        },
        {
          "output_type": "stream",
          "name": "stdout",
          "text": [
            " Model for shopping saved!\n",
            "\n",
            " Training DQN for Website: social (ID: 5)\n"
          ]
        },
        {
          "output_type": "stream",
          "name": "stderr",
          "text": [
            "/usr/local/lib/python3.11/dist-packages/stable_baselines3/common/vec_env/patch_gym.py:49: UserWarning: You provided an OpenAI Gym environment. We strongly recommend transitioning to Gymnasium environments. Stable-Baselines3 is automatically wrapping your environments in a compatibility layer, which could potentially cause issues.\n",
            "  warnings.warn(\n"
          ]
        },
        {
          "output_type": "stream",
          "name": "stdout",
          "text": [
            " Model for social saved!\n",
            "\n",
            "🎓 Training Complete!\n"
          ]
        }
      ]
    },
    {
      "cell_type": "markdown",
      "source": [
        "#**User Input and Evaluation Phase:**\n",
        "\n",
        "Once models are saved, the user will enter their budget, and the model will load the pre-trained models to calculate the optimal allocation."
      ],
      "metadata": {
        "id": "XvwDHmu-wuQX"
      }
    },
    {
      "cell_type": "code",
      "source": [
        "# User-defined total budget (this can be entered after training is done)\n",
        "user_budget = float(input(\"Enter your total advertising budget (e.g., 1000): \"))"
      ],
      "metadata": {
        "colab": {
          "base_uri": "https://localhost:8080/"
        },
        "id": "QFWa9mhyweKK",
        "outputId": "681ad2e7-a90d-418f-cf7e-78508942e926"
      },
      "execution_count": null,
      "outputs": [
        {
          "name": "stdout",
          "output_type": "stream",
          "text": [
            "Enter your total advertising budget (e.g., 1000): 500\n"
          ]
        }
      ]
    },
    {
      "cell_type": "code",
      "source": [
        "clicks_per_website_budgeted = {}\n",
        "spend_per_website = {}"
      ],
      "metadata": {
        "id": "yaAHodB5weHe"
      },
      "execution_count": null,
      "outputs": []
    },
    {
      "cell_type": "code",
      "source": [
        "# Iterate through each website to compute the optimal allocation\n",
        "for website_id, website_name in enumerate(website_labels):\n",
        "    print(f\"\\nEvaluating strategy for: {website_name}\")\n",
        "\n",
        "    # Load pre-trained model for the website\n",
        "    model = DQN.load(f\"{model_dir}/model_{website_name}.zip\")\n",
        "\n",
        "    # Create environment for the website\n",
        "    env = AdBiddingEnv(state_vectors, website_id)\n",
        "\n",
        "    obs = env.reset()\n",
        "    done = False\n",
        "    spent = 0\n",
        "    clicks = 0\n",
        "    bid_log = []\n",
        "\n",
        "    while not done and spent < user_budget:\n",
        "        action, _ = model.predict(obs)\n",
        "        bid_amount = float(env.bid_values[action])\n",
        "        obs, reward, done, _ = env.step(action)\n",
        "\n",
        "        # Spend budget only if click occurs (reward > 0)\n",
        "        if reward > 0:\n",
        "            spent += bid_amount\n",
        "            clicks += 1\n",
        "            bid_log.append(bid_amount)\n",
        "\n",
        "    # Store results for the website\n",
        "    clicks_per_website_budgeted[website_name] = clicks\n",
        "    spend_per_website[website_name] = spent\n",
        "\n",
        "# Normalize to get the percentage split of the budget\n",
        "total_spent = sum(spend_per_website.values())\n",
        "\n",
        "# Calculate the percentage allocation per website\n",
        "allocation_percentages = {}\n",
        "for website_name in spend_per_website:\n",
        "    allocation_percentages[website_name] = (spend_per_website[website_name] / total_spent) * 100\n"
      ],
      "metadata": {
        "colab": {
          "base_uri": "https://localhost:8080/"
        },
        "id": "z5EEzYN4w9dp",
        "outputId": "7c4c9897-53ec-4b81-ea4f-8712f989eca6"
      },
      "execution_count": null,
      "outputs": [
        {
          "output_type": "stream",
          "name": "stdout",
          "text": [
            "\n",
            "Evaluating strategy for: blog\n",
            "\n",
            "Evaluating strategy for: entertainment\n",
            "\n",
            "Evaluating strategy for: gaming\n",
            "\n",
            "Evaluating strategy for: news\n",
            "\n",
            "Evaluating strategy for: shopping\n",
            "\n",
            "Evaluating strategy for: social\n"
          ]
        }
      ]
    },
    {
      "cell_type": "code",
      "source": [
        "#  Show the final optimal budget allocation strategy\n",
        "print(\"\\n Optimal Budget Allocation (Percentage Split per Website):\")\n",
        "for website_name, percentage in allocation_percentages.items():\n",
        "    print(f\"{website_name.capitalize()}: {round(percentage, 2)}%\")"
      ],
      "metadata": {
        "colab": {
          "base_uri": "https://localhost:8080/"
        },
        "id": "0Poy4x3QxGtz",
        "outputId": "0b7f3ebc-6bb5-4e8a-aa74-9e2f01f80d17"
      },
      "execution_count": null,
      "outputs": [
        {
          "output_type": "stream",
          "name": "stdout",
          "text": [
            "\n",
            " Optimal Budget Allocation (Percentage Split per Website):\n",
            "Blog: 5.36%\n",
            "Entertainment: 8.33%\n",
            "Gaming: 39.29%\n",
            "News: 14.29%\n",
            "Shopping: 19.64%\n",
            "Social: 13.1%\n"
          ]
        }
      ]
    },
    {
      "cell_type": "code",
      "source": [
        "# Plot Optimal Budget Allocation by Website\n",
        "plt.figure(figsize=(10, 6))\n",
        "plt.pie(allocation_percentages.values(), labels=allocation_percentages.keys(),\n",
        "        autopct='%1.1f%%', startangle=140, colors=plt.cm.Paired.colors)\n",
        "plt.title(f\"Optimal Budget Allocation for {user_budget} Total Budget\")\n",
        "plt.show()"
      ],
      "metadata": {
        "colab": {
          "base_uri": "https://localhost:8080/",
          "height": 521
        },
        "id": "JXn6KFLbxGqb",
        "outputId": "75d43f38-75b7-402f-89df-c2bf561980eb"
      },
      "execution_count": null,
      "outputs": [
        {
          "output_type": "display_data",
          "data": {
            "text/plain": [
              "<Figure size 1000x600 with 1 Axes>"
            ],
            "image/png": "[encoded data removed]"
          },
          "metadata": {}
        }
      ]
    },
    {
      "cell_type": "code",
      "source": [
        "# User-defined total budget (this can be entered after training is done)\n",
        "user_budget = float(input(\"Enter your total advertising budget (e.g., 1000): \"))\n",
        "clicks_per_website_budgeted = {}\n",
        "spend_per_website = {}\n",
        "# Iterate through each website to compute the optimal allocation\n",
        "for website_id, website_name in enumerate(website_labels):\n",
        "    print(f\"\\nEvaluating strategy for: {website_name}\")\n",
        "\n",
        "    # Load pre-trained model for the website\n",
        "    model = DQN.load(f\"{model_dir}/model_{website_name}.zip\")\n",
        "\n",
        "    # Create environment for the website\n",
        "    env = AdBiddingEnv(state_vectors, website_id)\n",
        "\n",
        "    obs = env.reset()\n",
        "    done = False\n",
        "    spent = 0\n",
        "    clicks = 0\n",
        "    bid_log = []\n",
        "\n",
        "    while not done and spent < user_budget:\n",
        "        action, _ = model.predict(obs)\n",
        "        bid_amount = float(env.bid_values[action])\n",
        "        obs, reward, done, _ = env.step(action)\n",
        "\n",
        "        # Spend budget only if click occurs (reward > 0)\n",
        "        if reward > 0:\n",
        "            spent += bid_amount\n",
        "            clicks += 1\n",
        "            bid_log.append(bid_amount)\n",
        "\n",
        "    # Store results for the website\n",
        "    clicks_per_website_budgeted[website_name] = clicks\n",
        "    spend_per_website[website_name] = spent\n",
        "\n",
        "# Normalize to get the percentage split of the budget\n",
        "total_spent = sum(spend_per_website.values())\n",
        "\n",
        "# Calculate the percentage allocation per website\n",
        "allocation_percentages = {}\n",
        "for website_name in spend_per_website:\n",
        "    allocation_percentages[website_name] = (spend_per_website[website_name] / total_spent) * 100\n"
      ],
      "metadata": {
        "colab": {
          "base_uri": "https://localhost:8080/"
        },
        "id": "m6KDYlsu0IWi",
        "outputId": "eb0fd274-ffc0-48cd-fe8f-70d1e2ecdfcf"
      },
      "execution_count": null,
      "outputs": [
        {
          "output_type": "stream",
          "name": "stdout",
          "text": [
            "Enter your total advertising budget (e.g., 1000): 100\n",
            "\n",
            "Evaluating strategy for: blog\n",
            "\n",
            "Evaluating strategy for: entertainment\n",
            "\n",
            "Evaluating strategy for: gaming\n",
            "\n",
            "Evaluating strategy for: news\n",
            "\n",
            "Evaluating strategy for: shopping\n",
            "\n",
            "Evaluating strategy for: social\n"
          ]
        }
      ]
    },
    {
      "cell_type": "code",
      "source": [
        "#  Show the final optimal budget allocation strategy\n",
        "print(\"\\n Optimal Budget Allocation (Percentage Split per Website):\")\n",
        "for website_name, percentage in allocation_percentages.items():\n",
        "    print(f\"{website_name.capitalize()}: {round(percentage, 2)}%\")"
      ],
      "metadata": {
        "colab": {
          "base_uri": "https://localhost:8080/"
        },
        "id": "IsfpKj6X0URi",
        "outputId": "04eb16c0-22b4-4cee-df17-b3f148cd1804"
      },
      "execution_count": null,
      "outputs": [
        {
          "output_type": "stream",
          "name": "stdout",
          "text": [
            "\n",
            " Optimal Budget Allocation (Percentage Split per Website):\n",
            "Blog: 5.73%\n",
            "Entertainment: 7.64%\n",
            "Gaming: 42.04%\n",
            "News: 9.55%\n",
            "Shopping: 21.02%\n",
            "Social: 14.01%\n"
          ]
        }
      ]
    },
    {
      "cell_type": "code",
      "source": [
        "# Plot Optimal Budget Allocation by Website\n",
        "plt.figure(figsize=(10, 6))\n",
        "plt.pie(allocation_percentages.values(), labels=allocation_percentages.keys(),\n",
        "        autopct='%1.1f%%', startangle=140, colors=plt.cm.Paired.colors)\n",
        "plt.title(f\"Optimal Budget Allocation for {user_budget} Total Budget\")\n",
        "plt.show()"
      ],
      "metadata": {
        "id": "t0pDn4mD0Yf5",
        "outputId": "31a5b25c-b14d-47b2-c670-3768a10aad80",
        "colab": {
          "base_uri": "https://localhost:8080/",
          "height": 521
        }
      },
      "execution_count": null,
      "outputs": [
        {
          "output_type": "display_data",
          "data": {
            "text/plain": [
              "<Figure size 1000x600 with 1 Axes>"
            ],
            "image/png": "[encoded data removed]"
          },
          "metadata": {}
        }
      ]
    }
  ]
}